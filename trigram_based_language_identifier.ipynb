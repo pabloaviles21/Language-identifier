{
 "cells": [
  {
   "cell_type": "markdown",
   "metadata": {},
   "source": [
    "# Processament del Llenguatge Humà Pràctica 1: Identificador d'idioma "
   ]
  },
  {
   "cell_type": "markdown",
   "metadata": {},
   "source": [
    "<div style=\"text-align: justify;\">\n",
    "En aquesta pràctica, el nostre objectiu és determinar en quin dels sis idiomes europeus—anglès, castellà, neerlandès, alemany, italià o francès—estan escrites una sèrie de frases.\n",
    "\n",
    "Per fer-ho, utilitzarem un model basat en trigrames, seqüències de tres caràcters consecutius dins d’un text que ens ajuden a identificar patrons característics de cada idioma.\n",
    "\n",
    "Aquest model es crearà a partir dels textos d’entrenament de cada llengua i s’aplicarà la tècnica de suavitzat de Lidstone per assignar probabilitats als trigrames.\n",
    "Un cop creats els models, els farem servir per identificar l’idioma de noves frases, escollint aquell amb la probabilitat més alta. Finalment, compararem els resultats amb els idiomes reals i avaluarem la precisió del model mitjançant una matriu de confusió.\n",
    "</div>"
   ]
  },
  {
   "cell_type": "code",
   "execution_count": 1,
   "metadata": {},
   "outputs": [],
   "source": [
    "import re\n",
    "import os\n",
    "import nltk\n",
    "from nltk.collocations import TrigramCollocationFinder\n",
    "import numpy as np\n",
    "from sklearn.metrics import accuracy_score, confusion_matrix, ConfusionMatrixDisplay\n",
    "import matplotlib.pyplot as plt\n",
    "import seaborn as sns\n"
   ]
  },
  {
   "cell_type": "markdown",
   "metadata": {},
   "source": [
    "<div style=\"text-align: justify;\">\n",
    "Per començar, importem cadascun dels arxius de train dels que disposem, un per a cada idioma, i els guardem en un diccionari utilitzant les sigles de l'idioma al que pertany cadascun com a clau, i el contingut de cada arxiu com a valor relatiu a aquesta clau.\n",
    "\n",
    "Això ens permet accedir fàcilment al text d'entrenament de cada idioma.\n",
    "</div>"
   ]
  },
  {
   "cell_type": "code",
   "execution_count": 2,
   "metadata": {},
   "outputs": [],
   "source": [
    "archivos_entrada = (\"spa_trn.txt\", \"eng_trn.txt\", \"deu_trn.txt\", \"fra_trn.txt\", \"ita_trn.txt\", \"nld_trn.txt\")\n",
    "\n",
    "contenidos = {}\n",
    "for archivo in archivos_entrada:\n",
    "    idioma = archivo.split(\"_\")[0]  \n",
    "    \n",
    "    with open(archivo, \"r\", encoding=\"utf-8\") as f:\n",
    "        contenidos[idioma] = f.read()"
   ]
  },
  {
   "cell_type": "markdown",
   "metadata": {},
   "source": [
    "# Funcions"
   ]
  },
  {
   "cell_type": "markdown",
   "metadata": {},
   "source": [
    "A continuació, definim les funcions que s'utilitzen al llarg del codi per a dur a terme la tasca."
   ]
  },
  {
   "cell_type": "markdown",
   "metadata": {},
   "source": [
    "<div style=\"text-align: justify;\">\n",
    "<h3>Preprocessament dels textos</h3>\n",
    "En aquesta primera funció, definim totes les transformacions que cal aplicar als textos que llegim, tant els de train com els que contenen les frases a identificar.\n",
    "L'objectiu és assegurar que les dades estiguin en un format uniforme per millorar la precisió del model i reduir el soroll que podria afectar les prediccions.  \n",
    "\n",
    "Les transformacions que apliquem al document processat són:\n",
    "- Eliminació dels digits presents (incloent els espais que segueixen a aquests digits, per tal d'evitar espais dobles no desitjats)\n",
    "- Transformació de totes les lletres a format minúscula\n",
    "- Eliminació d'espais innecessaris, tabuladors\n",
    "- Substitució dels salts de línea per dos espais en blanc, utilitzant aquests com a separadors entre frases\n",
    "\n",
    "La funció retorna el text ja processat.\n",
    "</div>"
   ]
  },
  {
   "cell_type": "code",
   "execution_count": 3,
   "metadata": {},
   "outputs": [],
   "source": [
    "def preprocesar_texto(texto):\n",
    "    texto = re.sub(r\"\\d\\s*\", \"\", texto)  # Eliminar dígits\n",
    "    texto = texto.lower()  # Convertir a minúscules\n",
    "    texto = texto.replace(\"\\t\", \"\")  # Eliminar tabuladors\n",
    "    texto = re.sub(r\"\\n\", \"  \", texto)  # Substituir salts de línia amb doble espai\n",
    "    return texto"
   ]
  },
  {
   "cell_type": "markdown",
   "metadata": {},
   "source": [
    "<div style=\"text-align: justify;\">\n",
    "<h3>Lectura del document a identificar</h3>\n",
    "Aquesta funció es divideix en dues parts principals:\n",
    "\n",
    "1. La lectura del document.  \n",
    "\n",
    "2. L’anàlisi dels trigrames de cadascuna de les frases del text.\n",
    "\n",
    "\n",
    "\n",
    "Primerament, un cop hem llegit el document en qüestió, es crida a la funció de preprocessamet previament explicada per a que ajusti les dades d'aquest per a tenir-les en el format correcte per al seu tractament posterior. A continuació, separem les frases utilitzant com a referència els dos espais continus que hem utilitzat per a delimitar cada frase en el processament.\n",
    "Posteriorment, per cadascuna de les frases, busquem els seus trigrames i guardem la informació en el següent format:\n",
    "- Una llista de diccionaris frase-trigrames\n",
    "- Una llista amb les frases del text\n",
    "- Una lista amb l'idioma al qual pertany la frase\n",
    "\n",
    "D'aquesta manera, la funció ens retorna la llista de diccionaris amb totes les frases i els seus trigrames, i a més les altres dos llistes que utilitzarem posteriorment (més concretament la de l'idioma de cada frase) per a validar el nostre projecte.\n",
    "</div>"
   ]
  },
  {
   "cell_type": "code",
   "execution_count": 4,
   "metadata": {},
   "outputs": [],
   "source": [
    "def lectura_frases_input(texto):\n",
    "    idioma_real = os.path.basename(texto).split(\"_\")[0]\n",
    "    with open(texto, \"r\", encoding=\"utf-8\") as f:\n",
    "        input_texto = f.read()\n",
    "    texto_procesado = preprocesar_texto(input_texto)\n",
    "    frases = re.split(r'  ', texto_procesado)  # Divideix frases on hi hagin 2 espais seguits\n",
    "\n",
    "    trigramas_por_frase = []  \n",
    "    frases_test = []  \n",
    "    idioma_frases = []\n",
    "    \n",
    "    for frase in frases:\n",
    "        if frase:  \n",
    "            finder_in = TrigramCollocationFinder.from_words(list(frase)) \n",
    "            frases_test.append(frase)\n",
    "            idioma_frases.append(idioma_real)\n",
    "            trigramas_por_frase.append({'frase': frase, 'trigramas': dict(finder_in.ngram_fd.items())})  # Guardaem frase i els seus trigrames\n",
    "    \n",
    "    return trigramas_por_frase, frases_test, idioma_frases  \n"
   ]
  },
  {
   "cell_type": "markdown",
   "metadata": {},
   "source": [
    "<div style=\"text-align: justify;\">\n",
    "<h3>Càlcul de la log-probabilitat d'una frase en un idioma</h3>\n",
    "\n",
    "Aquesta funció té com a objectiu calcular la log-probabilitat d'una frase en un idioma determinat, utilitzant el suavitzat de Lidstone. Això ens permet estimar la probabilitat d'aparició d'una seqüència de trigrames en un idioma concret, fins i tot quan alguns trigramas no han aparegut en les dades d'entrenament.\n",
    "\n",
    "Per fer-ho, utilitzem la següent fórmula del suavitzat de Lidstone per calcular la probabilitat d'un trigrama <i>T</i> dins d'un model d'idioma:\n",
    "$$\n",
    "P(T) = \\frac{c_T(e_j) + \\lambda}{N_T + \\lambda B}\n",
    "$$\n",
    "on:\n",
    "- $c_T(e_j)$ és lLa freqüència d'aparició del trigrama $e_j$ en el corpus d'entrenament en l'idioma $T$.\n",
    "- $N_T$ és el nombre total de trigramas en el model de l'idioma $T$.\n",
    "- $B$ és el nombre total de trigramas diferents en el model.\n",
    "- $\\lambda$ és el paràmetre de suavitzat de Lidstone, que evita que trigramas no vistos tinguin probabilitat zero.\n",
    "\n",
    "Per obtenir la probabilitat total de la frase, sumem la log-probabilitat de cada trigrama ponderada per la seva freqüència en la frase:\n",
    "\n",
    "$$\n",
    "\\log P(\\text{frase}) = \\sum_{T} f_T \\cdot \\log P(T)\n",
    "$$\n",
    "\n",
    "on $ f_T $ representa la freqüència del trigrama en la frase.\n",
    "\n",
    "Aquesta funció recorre tots els trigramas de la frase, calcula la seva probabilitat amb suavitzat de Lidstone i acumula la suma de log-probabilitats ponderades. El resultat final ens indica la probabilitat relativa de la frase en un idioma determinat.</div>\n"
   ]
  },
  {
   "cell_type": "code",
   "execution_count": 5,
   "metadata": {},
   "outputs": [],
   "source": [
    "LAMBDA = 0.5  # Suavizado de Lidstone\n",
    "\n",
    "def calcular_log_probabilidad(trigramas_frase, modelo_trigramas):\n",
    "    \"\"\"Calcula la log-probabilidad de una frase en un idioma usando suavizado de Lidstone.\"\"\"\n",
    "    N_T = sum(modelo_trigramas.values())  # Total de trigramas en el modelo\n",
    "    B = len(modelo_trigramas)  # Número total de trigramas distintos\n",
    "\n",
    "    log_prob = 0\n",
    "    for trigrama, f_ej in trigramas_frase.items():  # Recorremos trigramas de la frase\n",
    "        c_T = modelo_trigramas.get(trigrama, 0)  # Frecuencia del trigrama en el modelo del idioma\n",
    "        P_T = (c_T + LAMBDA) / (N_T + LAMBDA * B)  # Aplicamos suavizado de Lidstone\n",
    "        log_prob += f_ej * np.log(P_T)  # Sumamos log-probabilidad ponderada por frecuencia\n",
    "    \n",
    "    return log_prob"
   ]
  },
  {
   "cell_type": "markdown",
   "metadata": {},
   "source": [
    "<div style=\"text-align: justify;\">\n",
    "<h3>Identificació de l'idioma d'una frase</h3>\n",
    "\n",
    "Aquesta funció té com a objectiu predir l'idioma d'una sèrie de frases basant-se en la probabilitat màxima previament calculada amb el suavitzat de Lidstone. Per fer-ho, compara la log-probabilitat de cada frase en cadascun dels idiomes disponibles i selecciona aquell amb la puntuació més alta.\n",
    "\n",
    "Per cada frase:\n",
    "- Extraiem els trigramas que la componen.\n",
    "- Per a cada idioma del model, calculem la log-probabilitat de la frase en aquell idioma.\n",
    "- Guardem la probabilitat de la frase per a cada idioma en un diccionari.\n",
    "- Afegim el resultat a una llista per retornar totes les prediccions.\n",
    "\n",
    "\n",
    "Com hem vist abans, la probabilitat de cada frase en un idioma es calcula amb la funció:\n",
    "\n",
    "$$\\log P^T(\\text{frase}) = \\sum_{T} f_T \\cdot \\log P^T(T)$$\n",
    "\n",
    "\n",
    "Un cop tenim totes les log-probabilitats, triem l'idioma amb el valor més alt:\n",
    "\n",
    "$$\n",
    "T^* = \\max_T \\log P^T(\\text{frase})\n",
    "$$\n",
    "\n",
    "Això ens assegura que la frase sigui assignada a l'idioma en què és més probable segons els trigramas observats.\n",
    "\n",
    "La funció retorna una llista de diccionaris, on cada element té:\n",
    "\n",
    "- 'frase': El text original de la frase.\n",
    "- 'idioma': L’idioma predit per al text.\n",
    "\n",
    "\n",
    "Aquesta estratègia ens permet classificar eficientment frases en diferents idiomes amb una alta precisió.</div>\n"
   ]
  },
  {
   "cell_type": "code",
   "execution_count": 6,
   "metadata": {},
   "outputs": [],
   "source": [
    "def identificar_idioma(frases_trigramas, modelos_idioma):\n",
    "    \"\"\"Predice el idioma de cada frase usando la probabilidad máxima con suavizado de Lidstone.\"\"\"\n",
    "    resultados = []\n",
    "\n",
    "    for item in frases_trigramas:  # Recorremos todas las frases\n",
    "        frase = item['frase']\n",
    "        trigramas_frase = item['trigramas']\n",
    "        \n",
    "        probabilidades = {}\n",
    "        for idioma, modelo_trigramas in modelos_idioma.items():\n",
    "            log_prob = calcular_log_probabilidad(trigramas_frase, modelo_trigramas)\n",
    "            probabilidades[idioma] = log_prob\n",
    "\n",
    "        mejor_idioma = max(probabilidades, key=probabilidades.get)  # Elegimos el idioma con mayor probabilidad\n",
    "        resultados.append({'frase': frase, 'idioma': mejor_idioma})\n",
    "    \n",
    "    return resultados"
   ]
  },
  {
   "cell_type": "markdown",
   "metadata": {},
   "source": [
    "# Execució del model\n",
    "\n",
    "<div style=\"text-align: justify;\">\n",
    "En aquest apartat es porta a terme la implementació de les funcions anteriors per a la possible realització del model d'identificació de llenguatge. \n",
    "\n",
    "\n",
    "Com a primer pas, s'aplica el preprocessament abans descrit al diccionari inicial format per l'id del idioma com a clau i l'arxiu 'train' corresponent com a valor, generant així per a cadascun d'aquests els seus trigramas més freqüents, donat que s'eliminen aquells que apareixen 5 o menys vegades, guardant el resultat final, és a dir, els diversos models de llenguatge, en un diccionari amb el nom de l'arxiu com a clau i la colecció de trigrames freqüents com a valor.\n",
    "</div>"
   ]
  },
  {
   "cell_type": "code",
   "execution_count": 7,
   "metadata": {},
   "outputs": [],
   "source": [
    "contenidos_procesados = {archivo: preprocesar_texto(contenido) for archivo, contenido in contenidos.items()}\n",
    "\n",
    "trigramas_modelos = {}\n",
    "for archivo, contenido in contenidos_procesados.items():\n",
    "    finder = TrigramCollocationFinder.from_words(contenido)\n",
    "    finder.apply_freq_filter(5) \n",
    "    trigramas_modelos[archivo] = dict(finder.ngram_fd.items())"
   ]
  },
  {
   "cell_type": "markdown",
   "metadata": {},
   "source": [
    "<div style=\"text-align: justify;\">\n",
    "I una vegada obtinguts els diversos models de l'entrenament, s'evaluen utilitzant un conjunt d'arxius de prova corresponents a un idioma diferent cadascun. Aquests son recorreguts i, per a cadascun, s'extreuen les frases que el componen i els trigrames corresponents amb la funció anteriorment mencionada (*lectura_frases_input*), la qual retorna les frases processades junt amb els trigrames i els idiomes reals. \n",
    "Aquestes dades s'emmagatzemen en llista per a poder cridar a la funció que identifica l'idioma basant-se en els models de trigrames generats prèviament. Els resultats s'imprimeixen a la terminal, mostrant la frase i l'idioma predit per a aquesta. Després s'agreguen els idioma predits a una llista per a poder comparar-la posteriorment amb els originals i evaluar la presició del model. \n",
    "</div>"
   ]
  },
  {
   "cell_type": "code",
   "execution_count": 11,
   "metadata": {},
   "outputs": [],
   "source": [
    "archivos_a_leer = (\"spa_tst.txt\", \"eng_tst.txt\", \"deu_tst.txt\", \"fra_tst.txt\", \"ita_tst.txt\", \"nld_tst.txt\") \n",
    "\n",
    "frases_test_real = []  \n",
    "idioma_test_real = []  \n",
    "idiomas_predichos = [] \n",
    "\n",
    "for archivo in archivos_a_leer:\n",
    "    frases_trigramas, frases_test, idioma_frases = lectura_frases_input(archivo)\n",
    "\n",
    "    frases_test_real.extend(frases_test)\n",
    "    idioma_test_real.extend(idioma_frases) \n",
    "\n",
    "    resultados = identificar_idioma(frases_trigramas, trigramas_modelos)\n",
    "\n",
    "    #print(f\"Resultados para '{archivo}':\")\n",
    "    for resultado in resultados:\n",
    "        #print(f\"Frase: '{resultado['frase']}' \\n Idioma detectado: {resultado['idioma']}\")\n",
    "        idiomas_predichos.append(resultado['idioma'])\n",
    "\n",
    "    #print()"
   ]
  },
  {
   "cell_type": "markdown",
   "metadata": {},
   "source": [
    "# Anàlisis dels resultats\n",
    "\n",
    "<div style=\"text-align: justify;\">\n",
    "Finalment, s'evaluarà el rendiment del model d'identificació d'idiomes, analitzant la seva presició i detectant possibles errors en el seu funcionament, així com patrons i ditribucions característiques en aquests, comparant els idiomes reals amb les prediccions realitzades pel model.\n",
    "\n",
    "Inicialment, es du a terme el càlcul de l'*accuracy* de les prediccions del model, cosa que ens indicarà en una primera instància la quantitat de prediccions correctes que realitza respecte el nombre total d'aquestes:\n",
    "</div>"
   ]
  },
  {
   "cell_type": "code",
   "execution_count": 12,
   "metadata": {},
   "outputs": [
    {
     "name": "stdout",
     "output_type": "stream",
     "text": [
      "\n",
      " Accuracy del modelo: 99.88%\n"
     ]
    }
   ],
   "source": [
    "accuracy = accuracy_score(idioma_test_real, idiomas_predichos)\n",
    "print(f\"\\n Accuracy del modelo: {accuracy:.2%}\")"
   ]
  },
  {
   "cell_type": "markdown",
   "metadata": {},
   "source": [
    "El model ha arribat a una presició del 99.88%, cosa que indica un rendiment excepcional en la classificació dels idiomes en un text. Per a una millor comprensió d'aquest resultat i la possibilitat de detectar patrons en certes llengües, es du a terme un anàlisi de la matriu de confusió, que mostra cóm es comparen els idiomes reals amb els predits."
   ]
  },
  {
   "cell_type": "code",
   "execution_count": 13,
   "metadata": {},
   "outputs": [
    {
     "data": {
      "image/png": "[encoded data removed]",
      "text/plain": [
       "<Figure size 800x600 with 2 Axes>"
      ]
     },
     "metadata": {},
     "output_type": "display_data"
    }
   ],
   "source": [
    "matriz_confusion = confusion_matrix(idioma_test_real, idiomas_predichos, labels=list(set(idioma_test_real)))\n",
    "\n",
    "# Mostrar la matriz de confusión en formato gráfico\n",
    "plt.figure(figsize=(8,6))\n",
    "sns.heatmap(matriz_confusion, annot=True, fmt=\"d\", cmap=\"Reds\", xticklabels=list(set(idioma_test_real)), yticklabels=list(set(idioma_test_real)))\n",
    "plt.xlabel(\"Idioma Predicho\")\n",
    "plt.ylabel(\"Idioma Real\")\n",
    "plt.title(\"Matriz de Confusión del Modelo de Identificación de Idioma\")\n",
    "plt.show()"
   ]
  },
  {
   "cell_type": "markdown",
   "metadata": {},
   "source": [
    "<div style=\"text-align: justify;\">\n",
    "Com es pot observar a la matriu de confusió, cada idioma ha estat identificat correctament en més del 99.75% dels casos, cosa que demostra que el model és robust i altament fiable. La gran majoria dels valors de la diagonal principal estan propers a 10000 (nombre de frases als conjunts test), fet que indica que les frases han estat classificades correctament gairebé en la seva totalitat.\n",
    "\n",
    "A més a més, les cel·les fora de la diagonal principal representen els errors, és a dir, els casos en què el model ha assignat un idioma incorrecte. Tot i això, aquests errors són escassos i no semblen concentrar-se en un idioma concret, cosa que suggereix que el model no presenta biaixos significatius cap a cap idioma en particular.\n",
    "\n",
    "Alguns exemples d'errors observats són:\n",
    "\n",
    "- Francès (fra): De 10.000 frases, 12 han estat classificades incorrectament en total, amb petits errors en alemany (deu), anglès (eng) i neerlandès (nld).\n",
    "- Alemany (deu): Ha presentat 8 errors en total, distribuïts en idiomes propers com el neerlandès i l’anglès.\n",
    "- Neerlandès (nld): Ha tingut 21 errors, amb la majoria assignats incorrectament com a anglès (eng) o alemany (deu).\n",
    "- Anglès (eng): Només 5 frases van ser classificades incorrectament.\n",
    "- Espanyol (spa) i Italià (ita): Tot i la seva similitud lingüística, els errors entre ells van ser mínims (només 5 i 4 respectivament).\n",
    "\n",
    "S'han de tenir en compte possibles errors en la classificació entre idiomes amb similituds fonètiques i estructurals, com és el cas de:\n",
    "\n",
    "- El neerlandès i l’alemany, que comparteixen moltes arrels lèxiques, fet que explica que algunes frases en neerlandès siguin classificades erròniament com a alemany i viceversa.\n",
    "- L’espanyol i l’italià, que tenen estructures gramaticals i vocabularis similars, fet que pot haver contribuït als errors entre ells.\n",
    "\n",
    "Tot i així, els errors que poden ser causats per aquests motius segueixen essent insignificants davant la gran presició del model.\n",
    "\n",
    "\n",
    "En resum, l’anàlisi dels resultats demostra que el model d'identificació d’idioma és altament precís, assolint un accuracy del 99.88% en la classificació de frases. La matriu de confusió confirma que la majoria dels idiomes han estat identificats correctament, amb errors mínims que es concentren principalment en idiomes amb similituds lèxiques i estructurals.\n",
    "\n",
    "Tot i que els errors són escassos, és important destacar que aquests es produeixen principalment en parelles d'idiomes amb característiques compartides, com el neerlandès i l’alemany o l’espanyol i l’italià. Aquest patró suggereix que el model funciona correctament en la majoria dels casos, però que podria beneficiar-se d’un ajustament més fi en idiomes propers.\n",
    "\n",
    "En general, el rendiment del model és molt satisfactori i resulta adequat per aplicacions pràctiques en processament del llenguatge natural. Els pocs errors observats no comprometen la seva funcionalitat i, amb algunes millores, podria assolir una precisió encara més alta.\n",
    "</div>"
   ]
  }
 ],
 "metadata": {
  "kernelspec": {
   "display_name": "Python 3",
   "language": "python",
   "name": "python3"
  },
  "language_info": {
   "codemirror_mode": {
    "name": "ipython",
    "version": 3
   },
   "file_extension": ".py",
   "mimetype": "text/x-python",
   "name": "python",
   "nbconvert_exporter": "python",
   "pygments_lexer": "ipython3",
   "version": "3.11.9"
  }
 },
 "nbformat": 4,
 "nbformat_minor": 2
}
